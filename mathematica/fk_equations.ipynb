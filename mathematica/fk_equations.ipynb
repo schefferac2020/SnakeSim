{
 "cells": [
  {
   "cell_type": "code",
   "execution_count": 3,
   "metadata": {
    "vscode": {
     "languageId": "wolfram"
    }
   },
   "outputs": [],
   "source": [
    "Needs[\"Screws`\", \"./Screws.m\"];\n",
    "Needs[\"RobotLinks`\", \"./RobotLinks.m\"];"
   ]
  },
  {
   "cell_type": "code",
   "execution_count": 125,
   "metadata": {
    "vscode": {
     "languageId": "wolfram"
    }
   },
   "outputs": [],
   "source": [
    "(* base pose of link i frame in the snake head frame (all joint angles = 0) *)\n",
    "gsi0[i_] := TwistExp[{0, l(i - 1), 0, 0, 0, 0}, 1];\n",
    "\n",
    "(* twist coordinates for joint i *)\n",
    "ξ[i_] := Piecewise[{{{0, 0, -l(i - 1/2), 1, 0, 0}, EvenQ[i]},\n",
    "              {{l(i - 1/2), 0, 0, 0, 0, 1}, OddQ[i]}}];\n",
    "\n",
    "n = 4; \n",
    "ids = Range[n];\n",
    "gsi0s = Map[gsi0, ids];\n",
    "ξs = Map[ξ, ids];\n",
    "\n",
    "(* create vector of angles which are all functions of t *)\n",
    "θs = Through[Array[Indexed[θ, #] &, n][t]];\n",
    "\n",
    "(* product of exponentials FK for pose of link i frame in the snake head frame *)\n",
    "gs[i_] := Dot @@ Append[MapThread[TwistExp, {ξs[[;; i-1]], θs[[;; i-1]]}], gsi0s[[i]]] // Simplify;"
   ]
  },
  {
   "cell_type": "code",
   "execution_count": 161,
   "metadata": {
    "vscode": {
     "languageId": "wolfram"
    }
   },
   "outputs": [
    {
     "data": {
      "text/html": [
       "<div><img alt=\"Output\" src=\"data:image/png;base64,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\"></div>"
      ],
      "text/plain": [
       "                     2\n",
       "l Sin[θ [t]] (θ )'[t]\n",
       "       1       1\n",
       "----------------------\n",
       "          2\n",
       "\n",
       "\n",
       "\n",
       "  1                        2\n",
       "-(-) (l Cos[θ [t]] (θ )'[t] )\n",
       "  2          1       1\n",
       "\n",
       "\n",
       "\n",
       "\n",
       "\n",
       "0"
      ]
     },
     "execution_count": 161,
     "metadata": {
      "text/html": [],
      "text/plain": []
     },
     "output_type": "execute_result"
    }
   ],
   "source": [
    "(* differentiate position twice wrt time to get acceleration *)\n",
    "p[i_] := gs[i][[;; 3, -1]];\n",
    "v[i_] := D[p[i], t];\n",
    "a[i_] := D[p[i], {t, 2}];\n",
    "\n",
    "(* set all joint accelerations to zero since we are assuming constant joint velocity *)\n",
    "(* a_internal *)\n",
    "acv[i_] := a[i] /. Thread[D[θs, {t, 2}] -> 0];\n",
    "\n",
    "(* a[2] // Simplify *)\n",
    "acv[2] // Simplify // MatrixForm"
   ]
  },
  {
   "cell_type": "code",
   "execution_count": 152,
   "metadata": {
    "vscode": {
     "languageId": "wolfram"
    }
   },
   "outputs": [
    {
     "data": {
      "text/html": [
       "<div><img alt=\"Output\" src=\"data:image/png;base64,iVBORw0KGgoAAAANSUhEUgAAAF8AAABKCAIAAABSNR+KAAAA0npUWHRSYXcgcHJvZmlsZSB0eXBlIGV4aWYAAHjaXU9bksQgCPz3FHsEBGz0OCbRqrnBHn8hujOV6arQneYhpPH7muknwJmSFqtoADm0aePuotLC4kztjjfK3Ln89JP27Xe3yieBsf3j6RsWc/0aRLyExAuuRXfDHiS8/LwfPHY991ofg+Y5b+yF35t8b/b/r2KMgmzqUZnM0FzX5NIJhakYJk7ACzMuJj2dB8y8DRYV0qMxwMOe1SNB3LjiBIlPpTtHzOJXRXStUm8HfO0sSZzzBzavXP4H+SpQAAAACXBIWXMAABDrAAAQ6wFQlOh8AAAAPHRFWHRTb2Z0d2FyZQBDcmVhdGVkIHdpdGggdGhlIFdvbGZyYW0gTGFuZ3VhZ2UgOiB3d3cud29sZnJhbS5jb21coqaFAAAAIXRFWHRDcmVhdGlvbiBUaW1lADIwMjQ6MDQ6MTMgMTM6NDg6MTZmIGgPAAAH/0lEQVR4nO2cbUhT7xvHr+OcbXOKrkm6LFLJSsysFDKCHrDsgXIFYaYLzFB7IspeBNabEl8UIyqUgRVIs0DT9WxoI0ERSinoSZluM8NyDxozt6PO7fxfHH/L/85DS905+/E7n1fuuu5zn6/fc5/d5+w690EwDAMOCoLYFhDQBLMtYBqdTtfd3R0ZGZmRkcHn89mW8w8YBR8/ftRoNFTZecRut+/fvx8AwsPDeTxebGxsR0cHA/vFMKy9vV2r1dI0oHSnuLjY4XD4QZI3CoUiPDwcV2mxWHbu3BkZGWkymRjYtcvlKigocLvdVA3I3Wlra1OpVH5T9RuDwYAgyM2bNz2R4eFhsVh88eJFBvaOYdijR4/q6+upsuTu5OfnO51Ov0n6TWVlJYIgVqt1ZvDAgQPr1q1jYO84ubm5VCmSOctkMoWFhQUHM/GF3d3dLZPJFi5ciKJoVVXV58+fASAlJaWnp4eBveMkJiZ++vSJNEXiTmNj4759+/wsaRqbzRYREQEAd+/ePXnypEKhAACJROJwOCYnJ5nRIJfLHz58SJoicae5uXnbtm1+ljQNgiAYhgFAcnKyQCBIT08HALfbDQBBQQxdi6WmpnZ2dpKmSE6fsbGxkJAQP0uaRiqVWq1WANi8efPY2BiPxwMAq9UaERHBzKntYXJykvhfex+fkZGRsLAwpiRBSkqK2WweHBwEANwaAHj37t3q1asZ0wAAS5cu7evrI8a93dHpdHFxcYxIAgDYvXt3SEhIdXW1J2IwGFpaWvDrQ8aIi4vT6XTEuPfo1ev1sbGxjEgCAIiKiiotLa2oqIiOjs7JydHr9QUFBYsXLy4uLmZMAwAsWbJEr9cT497u2Gy20NBQRiRNU15ePjExcebMmePHjwNAenp6Y2OjSCRiUoNIJBodHSXGvc8sh8MhEAgYkfSPgqAgpVJpMpk6Ozv1ev3bt2+XL1/OpAAAEAgEdrudGPceO3a7XSgUMiLp/4iIiEhLS2N+vzhCodDhcBDj7I+dQEAgEPjkDoqi/0F3hEIhiqLEuLc7brcbQRBGJAUQCIK4XC5inPvllA7OHTo4d+jg3KGDc4cOzh06OHfo4Nyhg6uF0sG+Ow6HIz8/X6PRhIeH2+32mJiYurq6jIwMtnUBBMKZVVJSotVqtVqtzWYbGhpKTk7es2eP2WxmWxcA6+4YjUa1Wl1eXo5XQaRSaW1trdPpvHXrFrvCcFh2p6mpCQAOHz7siUgkkh07drx48YI9Ub9h2Z1AqIXSwLI7gVALpYFldwKhFkoDyzN64NRCSWH5+ARILZQKlt0JkFooFSyP3gCphVLB/rkdCLVQKtifFwKhFkoF+2MHh91aKBXsj51AhnOHDs4dOjh36ODcoYNzhw7OHTo4d+jg3KGDc4cOzh06vN1h4LE4FEW7urpsNpu/d/RXkP7j3u7w+Xyn0+lXHZWVlTk5OYFTDgaKJSRAvEcPDQ0dHx/3q44bN27U1NSQ/oJTWFg4MTEBAMeOHduyZQuxgVwuz87OLigooOo/Pz8fAIaGhm7fvr1s2TIfVY2Pj5M+4e/tjkgkIn02ldidUqn88uULj8czm83R0dHXrl2Lior644a1tbVZWVlU678GBwdfvnxJs3lbW9uGDRtoGqjVagA4f/78Xx1jFEVJjxaJO3/s12KxKBSKsrKysrIyPPL69evs7OzW1lb6hV0YhqnV6oaGBt9143z//t1qtdrt9p8/f379+rW9vd2T2rRp09/2RmR8fNwnd0JDQ+nHjtvtzs3NVSqVa9as8QS3bt26ffv2uro6fGBTMTU1pVar8fLeX3HixInHjx/jf6tUKpVK5Uk5nc6513ZQFCU9s7y/lWUyGV5goqK6ujozM3OmNTiZmZkzDykpfD4/JibGB7Xe1NfXoyja398PAFeuXEFnMC9lr+HhYZlMRox7u5OYmGg0Gmk6UqlUpAWDmJgY0kU88wKfzxcIBAsWLACA4OBgwQzmpX+DwbBixQpi3Nv4uLg4vPZGysDAgMViOX36NDFlsVhWrVrl+Xjnzp1Xr141NzcPDAwwvOBrFhiNxsTERGLc2x0ej0dTwO7v7z9y5EhFRQUxdfny5ZUrV3o+WiyWhISEkZER7N/wBpvR0VGpVEqMkxiRlJTU29tL1RHpSh2Xy/X8+fO9e/d6IhcuXDh16tSspFKCT4hTU1Pz2+3IyMiiRYtIUyTuHDx4UKPRkLZOSkoiXfavVCoLCwv9vexNIpGIRCKDwTC/3T59+lQul5OmSNzJyMjo6uoibS2VSqVSaUtLy8zgvXv3enp6ioqK5i70j8jl8gcPHty/f99kMg0ODj558mRsbGyOfWq12l27dpGmSKZDBEHS0tI+fPiQkpJCzFZVVR06dOjZs2fp6el2u72lpWXt2rUzHxPwK1evXu3t7c3Ly8M/SqXSpqamuZQJv337JpPJKOc+0neHOByOoqIimveOvH//vqGhobW1leYdPT9+/ACAX79++fYqEwzDsKysLF+a6fX6N2/eGI1Gl8tF2qC0tLS7u9uXrs6ePWs2m6my5JdSQqFw/fr1HR0dGzduJG2Qmpqampo66yM2R+Lj4+Pj4+feT19fn0Qiobk9pJy8jx49Outl+yUlJWKxOCEhAQCio6PFYnFNTY2P21qtVqvVit+pzwJ8c19upAFALBafO3eOpsH0Y3sBwvXr1/F3CuTl5c3ucXfPZcSlS5eo5mnfCSx3Ag3ud2U6/gcvWwrJeVoibAAAAABJRU5ErkJggg==\"></div>"
      ],
      "text/plain": [
       "\n",
       "0\n",
       "\n",
       "\n",
       "0\n",
       "\n",
       "(θ )'[t]\n",
       "  1"
      ]
     },
     "execution_count": 152,
     "metadata": {
      "text/html": [],
      "text/plain": []
     },
     "output_type": "execute_result"
    }
   ],
   "source": [
    "(* differentiate rotation matrix to get angular velocity *)\n",
    "R[i_] := gs[i][[1 ;; 3, 1 ;; 3]];\n",
    "ωhat[i_] := D[R[i], t].Transpose[R[i]];\n",
    "\n",
    "(* ω_internal *)\n",
    "ω[i_] := UnSkew[ωhat[i]];\n",
    "\n",
    "(* ωhat[2] // Simplify // MatrixForm *)\n",
    "ω[2] // Simplify // MatrixForm\n"
   ]
  },
  {
   "cell_type": "code",
   "execution_count": 162,
   "metadata": {
    "vscode": {
     "languageId": "wolfram"
    }
   },
   "outputs": [],
   "source": [
    "(* quaternion to rotation matrix *)\n",
    "qtoR[{x_, y_, z_, w_}] := {{w^2 + x^2 - y^2 - z^2, 2(x*y - z*w), 2(x*z + y*w)},\n",
    "                       {2(x*y + z*w), w^2 - x^2 + y^2 - z^2, 2(y*z - x*w)},\n",
    "                       {2(x*z - y*w), 2(y*z + x*w), w^2 - x^2 - y^2 + z^2}};\n",
    "\n",
    "$Assumptions = {ak ∈ Vector[3, Reals],\n",
    "                qk ∈ Vector[4, Reals],\n",
    "                ωk ∈ Vector[3, Reals],\n",
    "                Ck ∈ Matrix[{3, 3}, Reals],\n",
    "                Rk ∈ Matrix[{3, 3}, Reals]};\n",
    "\n",
    "(* ak = {ax, ay, az};\n",
    "qk = {qx, qy, qz, qw};\n",
    "ωk = {ωx, ωy, ωz};\n",
    "xk = Join[ak, qk, ωk];\n",
    "Rk = qtoR[qk]; *)\n",
    "\n",
    "xk = Join[ak, qk, ωk];\n",
    "(* Ck // TensorDimensions *)\n",
    "\n",
    "(* rotation matrix from virtual chassis frame to snake head frame *)\n",
    "(* Ck = {{C11, C12, C13}, {C21, C22, C23}, {C31, C32, C33}}; *)\n",
    "(* Ck = IdentityMatrix[3]; *)\n",
    "\n",
    "g = {0, 0, -9.81};\n",
    "\n",
    "W[i_] := Transpose[Ck].R[i];\n",
    "\n",
    "(* predicted acceleration measurement at link i *)\n",
    "αhat[i_] := Transpose[W[i]].Transpose[Rk].(g + ak) + Transpose[Ck].acv[i];\n",
    "\n",
    "(* predicted angular velocity measurement at link i *)\n",
    "γhat[i_] := Transpose[W[i]].ωk + Transpose[Ck].ω[i];\n",
    "\n",
    "(* αhat[2] // TensorReduce // Simplify // MatrixForm\n",
    "γhat[2] // Simplify; *)\n"
   ]
  },
  {
   "cell_type": "code",
   "execution_count": 120,
   "metadata": {
    "vscode": {
     "languageId": "wolfram"
    }
   },
   "outputs": [],
   "source": [
    "\n",
    "(* zhat = Join[Array[αhat, n], Array[γhat, n]] // Flatten // Simplify; *)\n",
    "\n",
    "(* measurement jacobian *)\n",
    "(* h11 = Dt[zhat[[1]], {xk}] // TensorReduce // Simplify *)\n",
    "(* H = D[zhat, {xk}] // Simplify // MatrixForm; *)"
   ]
  },
  {
   "cell_type": "code",
   "execution_count": 178,
   "metadata": {
    "vscode": {
     "languageId": "wolfram"
    }
   },
   "outputs": [],
   "source": [
    "(* Scratch Work *)\n",
    "(* d = 4;\n",
    "$Assumptions = {Element[x, Vectors[d, Reals]],\n",
    "                Element[Q, Matrices[{d, d}, Reals, Symmetric[{1, 2}]]],\n",
    "                Element[M, Matrices[{d, d}]]};\n",
    "\n",
    "V = Transpose[x].Q.x // Simplify\n",
    "D[V, {x}] // Simplify\n",
    "Transpose[V] // Simplify\n",
    "Transpose[Q].x + Q.x // TensorReduce // Simplify *)\n",
    "\n",
    "\n",
    "\n",
    "(* angles = {0, π/2, 0, 0};\n",
    "gs[3] // Simplify // MatrixForm;\n",
    "gs[3] /. Thread[θs -> angles] // Simplify // MatrixForm; *)\n",
    "(* p[3] // Simplify *)\n",
    "(* v[2] // Simplify *)\n",
    "\n",
    "(* gs1 = gsi0s[[1]] // MatrixForm\n",
    "gs2 = TwistExp[ξ[1], θs[[1]]].gsi0s[[2]] // Simplify // MatrixForm\n",
    "gs3 = TwistExp[ξ[1], θs[[1]]].TwistExp[ξ[2], θs[[2]]].gsi0s[[3]] // Simplify // MatrixForm *)"
   ]
  }
 ],
 "metadata": {
  "kernelspec": {
   "display_name": "Wolfram Language 14",
   "language": "Wolfram Language",
   "name": "wolframlanguage14"
  },
  "language_info": {
   "codemirror_mode": "mathematica",
   "file_extension": ".m",
   "mimetype": "application/vnd.wolfram.m",
   "name": "Wolfram Language",
   "pygments_lexer": "mathematica",
   "version": "12.0"
  }
 },
 "nbformat": 4,
 "nbformat_minor": 2
}
