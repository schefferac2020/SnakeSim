{
 "cells": [
  {
   "cell_type": "code",
   "execution_count": 3,
   "metadata": {
    "vscode": {
     "languageId": "wolfram"
    }
   },
   "outputs": [],
   "source": [
    "Needs[\"Screws`\", \"./Screws.m\"];\n",
    "Needs[\"RobotLinks`\", \"./RobotLinks.m\"];"
   ]
  },
  {
   "cell_type": "code",
   "execution_count": 43,
   "metadata": {
    "vscode": {
     "languageId": "wolfram"
    }
   },
   "outputs": [
    {
     "data": {
      "text/html": [
       "<style>\n",
       "\t\t\t\t\t\t\t\t\t\t\t\t\t.grid-container {\n",
       "\t\t\t\t\t\t\t\t\t\t\t\t\t\tdisplay: inline-grid;\n",
       "\t\t\t\t\t\t\t\t\t\t\t\t\t\tgrid-template-columns: auto;\n",
       "\t\t\t\t\t\t\t\t\t\t\t\t\t}\n",
       "\t\t\t\t\t\t\t\t\t\t\t\t</style>\n",
       "\n",
       "\t\t\t\t\t\t\t\t\t\t\t\t<div><div class=\"grid-container\"><div class=\"grid-item\"><img alt=\"Output\" src=\"data:image/png;base64,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\"></div><div class=\"grid-item\"><img alt=\"Output\" src=\"data:image/png;base64,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\"></div></div></div>"
      ],
      "text/plain": [
       "                       2\n",
       " l (Sin[θ [t]] (θ )'[t]  - Cos[θ [t]] (θ )''[t])\n",
       "         1       1              1       1\n",
       "{-----------------------------------------------, \n",
       "                        2\n",
       " \n",
       "      1                         2\n",
       ">   -(-) (l (Cos[θ [t]] (θ )'[t]  + Sin[θ [t]] (θ )''[t])), 0}\n",
       "      2           1       1              1       1\n",
       "                      2\n",
       " l Sin[θ [t]] (θ )'[t]\n",
       "        1       1          1                        2\n",
       "{----------------------, -(-) (l Cos[θ [t]] (θ )'[t] ), 0}\n",
       "           2               2          1       1"
      ]
     },
     "execution_count": 43,
     "metadata": {
      "text/html": [],
      "text/plain": []
     },
     "output_type": "execute_result"
    }
   ],
   "source": [
    "(* base pose of link i frame in the snake head frame (all joint angles = 0) *)\n",
    "gsi0[i_] := TwistExp[{0, l(i - 1), 0, 0, 0, 0}, 1];\n",
    "\n",
    "(* twist coordinates for joint i *)\n",
    "ξ[i_] := Piecewise[{{{0, 0, -l(i - 1/2), 1, 0, 0}, EvenQ[i]},\n",
    "              {{l(i - 1/2), 0, 0, 0, 0, 1}, OddQ[i]}}];\n",
    "\n",
    "n = 4; \n",
    "ids = Range[n];\n",
    "gsi0s = Map[gsi0, ids];\n",
    "ξs = Map[ξ, ids];\n",
    "\n",
    "(* create vector of angles which are all functions of t *)\n",
    "θs = Through[Array[Indexed[θ, #] &, n][t]];\n",
    "\n",
    "(* product of exponentials FK for link i *)\n",
    "gs[i_] := Dot @@ Append[MapThread[TwistExp, {ξs[[;; i-1]], θs[[;; i-1]]}], gsi0s[[i]]] // Simplify;\n",
    "\n",
    "(* differentiate position twice wrt time to get acceleration *)\n",
    "p[i_] := gs[i][[;; 3, -1]];\n",
    "v[i_] := D[p[i], t];\n",
    "a[i_] := D[p[i], {t, 2}];\n",
    "\n",
    "(* set all joint accelerations to zero since we are assuming constant joint velocity *)\n",
    "acv[i_] := a[i] /. Thread[D[θs, {t, 2}] -> 0];\n",
    "\n",
    "a[2] // Simplify\n",
    "acv[2] // Simplify"
   ]
  },
  {
   "cell_type": "code",
   "execution_count": null,
   "metadata": {
    "vscode": {
     "languageId": "wolfram"
    }
   },
   "outputs": [],
   "source": [
    "(* Scratch Work *)\n",
    "\n",
    "(* angles = {0, π/2, 0, 0};\n",
    "gs[3] // Simplify // MatrixForm;\n",
    "gs[3] /. Thread[θs -> angles] // Simplify // MatrixForm; *)\n",
    "(* p[3] // Simplify *)\n",
    "(* v[2] // Simplify *)\n",
    "\n",
    "(* gs1 = gsi0s[[1]] // MatrixForm\n",
    "gs2 = TwistExp[ξ[1], θs[[1]]].gsi0s[[2]] // Simplify // MatrixForm\n",
    "gs3 = TwistExp[ξ[1], θs[[1]]].TwistExp[ξ[2], θs[[2]]].gsi0s[[3]] // Simplify // MatrixForm *)"
   ]
  }
 ],
 "metadata": {
  "kernelspec": {
   "display_name": "Wolfram Language 14",
   "language": "Wolfram Language",
   "name": "wolframlanguage14"
  },
  "language_info": {
   "codemirror_mode": "mathematica",
   "file_extension": ".m",
   "mimetype": "application/vnd.wolfram.m",
   "name": "Wolfram Language",
   "pygments_lexer": "mathematica",
   "version": "12.0"
  }
 },
 "nbformat": 4,
 "nbformat_minor": 2
}
