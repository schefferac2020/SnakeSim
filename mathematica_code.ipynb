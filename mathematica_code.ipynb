{
 "cells": [
  {
   "cell_type": "code",
   "execution_count": 20,
   "metadata": {
    "vscode": {
     "languageId": "wolfram"
    }
   },
   "outputs": [],
   "source": [
    "Needs[\"Screws`\", \"~/repos/567/hw2/Screws.m\"];\n",
    "Needs[\"RobotLinks`\", \"~/repos/567/hw2/RobotLinks.m\"];"
   ]
  },
  {
   "cell_type": "code",
   "execution_count": 76,
   "metadata": {
    "vscode": {
     "languageId": "wolfram"
    }
   },
   "outputs": [
    {
     "data": {
      "text/html": [
       "<style>\n",
       "\t\t\t\t\t\t\t\t\t\t\t\t\t.grid-container {\n",
       "\t\t\t\t\t\t\t\t\t\t\t\t\t\tdisplay: inline-grid;\n",
       "\t\t\t\t\t\t\t\t\t\t\t\t\t\tgrid-template-columns: auto;\n",
       "\t\t\t\t\t\t\t\t\t\t\t\t\t}\n",
       "\t\t\t\t\t\t\t\t\t\t\t\t</style>\n",
       "\n",
       "\t\t\t\t\t\t\t\t\t\t\t\t<div><div class=\"grid-container\"><div class=\"grid-item\"><img alt=\"Output\" src=\"data:image/png;base64,iVBORw0KGgoAAAANSUhEUgAAA/EAAAAvCAIAAAAkf90AAAAA03pUWHRSYXcgcHJvZmlsZSB0eXBlIGV4aWYAAHjaXVBZbgUhDPvnFD1CNhw4Dm8GpHeDHr9haat5loiNs7Ck/v0e6WtCmJJlL6gABaxalRai0MZmprriwmDS4z78JGMLbmHl/wT68V9P37FZyscgki10nhBa7TScQSrb57b3r1MvrZTHoHGNhfOYv5t83ux3b+qCDHaLaELuqKFLChmELJQdAxcQhYxbyK7gDvdog88KbbNxQro/q3uChnHPJ+hcpi14RlaJVtYcWhXLL3Kf7Prx9AM5X1z/qN0WTwAAAAlwSFlzAAAQ6wAAEOsBUJTofAAAADx0RVh0U29mdHdhcmUAQ3JlYXRlZCB3aXRoIHRoZSBXb2xmcmFtIExhbmd1YWdlIDogd3d3LndvbGZyYW0uY29tXKKmhQAAACF0RVh0Q3JlYXRpb24gVGltZQAyMDI0OjA0OjEyIDE1OjM2OjA4Rm6BbgAAFkhJREFUeJzt3WlUE9fbAPCbBBARKEsUle2AG1oE17r9LaIoCJYoerRtCm7VWhVtXeoWlyPiUkXrgnJccEGtB06PVtzqigVxQesGhSKCQQGBIIIkyBLyfpi+OWlmEiaTmcnC8/vSMrkzc5/MvY83s9zhKBQKRFVtbe2HDx9cXV0pbwEAAIABQRoHAADzwKWwzrt37w4ePCgUCl1cXAICAmivEwAAAEZBGgcAADNjQWGd/Pz8xMREhJC1tTXd9QEAAMA4SOMAAGBmOPrcezNhwoS8vLyCggIaKwQAAIA1kMYBAMA8ULn3BgAAAAAAAGA8YEwPAAAAAACAaYMxPQAAAAAAAKaNeEzf3Nz84sWLqqoqlmsDAAAAAAAAUPXs2bOamhrtZQjG9Pv3758yZcr58+elUikzFQMAAAAAAACQ8uTJk1WrVs2aNauiokJTGfW5LE+dOlVUVHTu3DmG6wYAAAAAAABoXVRUVFRU1LNnz2bPnp2amkpYRv08fXJy8qpVq5ivGwDsqaura2pqMnQtAAAAUARpHACEkJ+fn42NjUwmI/xU/Tx9Q0ODk5OTls3JZLKbN29i/19RUSGTyS5cuID9GRoayuWy8dBtaWlp165dWdgRMHV3796Njo4uLy+XSqWBgYGJiYmffPKJoSsF2qLa2loul2tra2voiiAEaRyYFEjjwEgYSRp3d3d/8+ZNz5498R/pnLtLS0u/+H9ZWVllZWXKPxsbG+mobSvEYvHBgwdZ2BEwA/Hx8du2bXv9+nVZWZlCoVi/fr2hawTaqPfv32/fvt3QtfgXpHFgQiCNAyNhPGm8paWFcLn6efpWde/eXZ9Xz+ovMTFx+vTpBqwAMCEnT57E/qddu3ZCoXDnzp2GrQ9oszw8PF6+fCmXy3k8nqHrAmkcmBJI48BIGFUaJ6TzmF4ft2/fvnz5svLPuXPnent767QFuVyen5+v61pKjY2Ne/fu9fb2njRpErUtAGrq6+tzcnJ69OhhwGumT58+7d27t6H2DgxCreEZth2OGTPm4sWL4eHh7O+aRgZP48BQ2ngah/GDoUAaJ4/VMX1JScm9e/cQQhKJJCcnJyQkRNe0npaWNmDAAPzyd+/eHT16NCcnp7m52d/fXygUdu7cGV/s999/X7ZsGZfLra6utre3pxYFoCA+Pv7AgQPPnz83VAXy8/MPHTr04MED2rf8/PnzlJSUgoKC9u3bjx07durUqezcjgzIUGt4hm2HkydPjo6ONtp/DEhiLo0j6E3GzVzTOIwfjFybSuP5+fm5ubmOjo7Dhg2ztLTUeX3FfwUHByuYd/bsWYTQrVu3dF0xOjo6OztbbWFmZqa9vb2dnd3o0aMDAwNtbW1tbGySkpLwq4vF4uHDhwuFwpaWFmo1x8yaNUsoFAqFQgoh0LILgUCQmJioZXVs3TFjxhQVFelThhYNDQ1ubm43btwg/LTVL1P/YEtLS3v16pWSkqJbvVsjl8t//PFHDofD5/PHjRv32WefcTicESNG1NXV0bsjJaYbHgvHgrVWp8A1PEbbIcm4wsLCmpqaSNbfyNGbxs2vN7W6C0jjSmSiYCiNm9n4gczG22wap6XHKRhL41KpFLsEZG9vz+Px3NzcMjMzCUsuXbo0NzeX8CNWz9Pr79GjR59++qnqkpaWlmnTprm5uWVkZDg6OiKEamtrV61aRfg728PD486dO/pXo6Sk5MqVK5o+/fjxY1xc3N9//83j8SoqKjp37rx9+/aOHTvSuIv09PShQ4dqWR27AXHZsmUfP37Up4waaqGdOnUqODh49OjRhJ9qjxTpHaxYLA4ODl6xYsWUKVO011NXGzZs2LVr14oVK2JiYrDf0xkZGampqR06dKB3R0pMNzymjwWZAniU41JreIy2Q5JxDRgw4M6dOwEBAa1W3ozh0zgyx97U6i4gjSu1GgVDadz8xg+tHgjUhtM4LT0OMZbG582bd+PGjRs3bowePVoikURGRoaFheXl5XXq1In8RkxpTP/69Ws+n6+28O3bt69fv16+fDnWIRFC9vb28fHxygItLS2ZmZmqq9ja2vbr109tyxKJpH///k1NTZcuXRKLxd7e3sHBwRQufFRWVkZGRq5Zs2bNmjXYklu3bgkEgrS0NCsrK123pqa0tFQikUil0urqarFYnJGRofzof//7n54bbxW10BQKxcmTJ3/77Tddd0dLsM+fP//iiy+2bNny1Vdf6VoB7UpKSrZu3Tp58uStW7eqVgxft3v37mVlZfF4vBEjRvj7++M3VVxcfPfu3bKyMmdn54CAAA8PDwr1MdeGRzkutYZn2HaoNHLkyIyMjLY8pidM49CbMJDGCTGXxmH8gDHvNE574Eyk8aKiopMnT+7evRv7ucLn80+dOuXp6bl3796YmBgdNqR23t6Y7705f/78unXr1BbK5XJ7e/s+ffq8e/eOcK0PHz6ohezv769WJiYmxsvL6+nTp927d7exsWnfvj1CaMiQIQ0NDYTb1PQtyeXyMWPGPHnyRG35unXrCK/laUG4C4FAoOk4El4J0nKBRqcyCj1Ca2xsLC0t1VJA05dJS7BOTk6WlpbYAcWcPXtWS2XIw+Ze0HRpDFNeXh4YGIgQcnNzw078REREfPjwQbXMmjVrLCwsPDw8hg0b5uXlxeFwwsPDa2trCTfIdMNj9FjoVACjT1xqDY+ddthqXG/evJkyZYr2mpsKGtO4WfYmTbuANK5r92EujZvf+EHLEK7NpnHaA2cijcfHx3M4HIlEorowIiJiwIABOtXQlB4/evbsmZ+fn9pCLpe7Y8eO3NzcXr16xcTElJeXqxWwtbWtVzFy5EjCjZeUlISHh69bt+7Dhw91dXUikej+/fsnTpzQqYaHDh0KCgrCnz0KCgpS/WlIWUpKSn19/atXrxBCMTExqnFZWDB7yYVyaJaWll26dKGwR1qCraqqamxslMlkyhY/ceJECpXBy8rKsrKyGjx4sKYCWId8+PBhamoqNrPy8ePHL1y4MHv2bGWZJ0+exMbGrl69WiwWZ2ZmFhYWZmZmDhkyxM7OTqfKmGvD0ycutYZn2Hao5OrqWlRURKEaZoMwjUNvgjSuBbU0Pm3aNKlUqr0MjB/aQhqnPXAm0nhubm7Xrl2dnZ3r6+v379+fk5ODEPLz88vLy8MX7tChg6a2/Z8xfUNDg/7Xd5hTWlrq4uKCXz5nzpzLly97enquW7fOw8Nj5syZL1++VC1grULTLAqNjY1JSUmRkZFcLpfL5a5du9bKyurRo0c61TAhIeG7777DL+/SpUttba1OmyJkaWlpbW3drl07hJCFhYVqXPpvXDumQ8MzYLBkSCQSR0dHLRnh6tWrd+7c2bBhw4QJE7AlUVFRCxcuTE5Ozs7OxpZUVVUhhFQ73dChQ1evXq1rZcy14bHf6vBoj72NT+RCmMahN0Eap51cLleQeAkDjB/MPo0zETjtabympsbBwQEhlJiYuGDBgsjISISQk5OTTCbDvwewZ8+e2KAf7z85dMuWLTNnzqS3ojRSxowXHBwcHBz8559/7t69OykpKTk5OSUlJTQ0VKftq856a2Vl1alTJ/yvdi2Ki4srKyujo6PxH1VWVqpu/MiRI9evX7969WpxcTFzT4DRiGRoJheXPqytrbU/RnP79m2EUEREhOrCiRMn7ty589atW76+vgih0aNHL1iwQCQSXbhwYerUqRMmTOjRo4euNTHXo2OuHcrCwqKxsdGYz54wijCNm1xvQqbW6pD5Jgr9mdD4weSOjrl2KNrTOIfDwX6C+vr6WltbYxctsZfF4n8/TJo0KSIiIiwszNnZWb1i2H+ysrLWrl07Y8YMLS9TSEhIyM/P116txYsXe3p66hgLWbW1tdpfMfD5559//vnnT58+DQ0NnT59ellZmT5XlHg8nqa37xJ69epVVFTU5s2b8R9t3LjRx8dH+WdlZWW3bt2wG/goV49NJEMzubhU1dXVbdq0Cb88KCgoKCgIv9zLyys1NbWiokLTM+nv379HCKmdksTuA66ursb+5HA4+/btmzFjxvHjx/fu3btkyRJfX9+ffvoJ+41OkrkeHXPtUHZ2djU1NbrOoKKJru128+bNEolE+zbXr1/P3MtcCNO4yfUmZGqtDplvolCl2h2ys7PXr1+PPaiqqTuoMonxg8kdHXPtUPSmcYQQn8/HMnNAQEBdXR32nlqJROLg4IBvhzY2NgcOHFi4cKGvr6/ysWPMv0W9vLxCQ0MvXLgwceJETdcjwsLCRo0apb1aJOfc4XA4ZIqpsbS0lMvlrRbz9/efP3++SCR6+fJlr169KOyIMplMhl8ol8svXry4fPly5ZKVK1e+ffs2NjaW2l6wn4bNzc3UVqeGTGh6xkWItWDbt28/Y8YM/HL8HB2YoKCgPXv2pKSkLFiwgLAANuAQi8WqaQu7pa9r166qJQcNGjRo0KC9e/c+f/48NjY2KiqqpqZm4cKF5CvPztFhv+Gx06HIoDH2pqYmKm8S0UDXdvvll1/ir+SqIXmSjMY0bnK9CUEa14VB0vjjx4+FQqGNjQ3S3B3wjHz8AGmcMnoDpzeNI4T8/PwqKipKSkpcXV2xAT1C6K+//urbty9h+fT0dEdHx3Hjxqkt//eUPp/PX7Ro0cyZMwl/TmHc3d19WqP6ZLoW2PUC5fkVkhwcHPAPoZeXl+/evVttoVgs5nK5+KsSjOrTp4/yzk5VcXFxs2fPJvnNkOHk5GRjY1NYWEjXBlvFWmh4rAXL4/EIm7SmfwxCQ0N79uy5cePG4uJi1eWXLl3CTs+EhYUhhBISElQ/PXTokKWlZUhICPanVCpVHWD17dv3zJkzLi4urU4wrMpcG54BWx0ejbHX1dVpOQt+9erVbt26jR8/vq6ujszWdG233t7eraZxkqcnaUzj0JtY0NbSuJ2dXc+ePbV3Bxg/MM140ji9gdObxhFCoaGhVlZWhw4dUi4pLCy8du0a4b0zhYWFf/zxx/79+/HzCvznNp0xY8bcv3+fZA304evra2triz1vLhaLSc426uzsXFNTo7bw9OnTP/zww/Dhw5OSkh4/fpyRkbFs2bLDhw/Pnj2b/E9zWvD5fD6ff+3aNdWFSUlJeXl5c+fOpXdfEydO/PXXX0+fPl1eXl5SUnL+/HnyTYcCNkPDYzlYkng83okTJ2Qy2dChQw8cOPD48ePbt28LhcKwsLDr168jhAYOHDhz5sw9e/aIRKJ//vknOzt7/vz5KSkpK1eudHNzwzayePFiHx+fo0ePlpWVtbS0VFdX//LLLxUVFZpmVyBkrg3PsK0Oj8bYtZzhTkxMLCwsvHLlSnJyMtWasoTGNA69CdK4QcD4oU2lcXoDpzeNd+zYcenSpZs3b05ISKiurn748KFAIHB1dSV8vDg1NfWbb74h3pDa3JbszE+vUChOnDihvMLbpUuX6urqVlc5cuTIsWPH8MvPnTs3cOBAZUT29vaxsbGNjY2EGwkICCCcXxYhVFlZqbrQ09NTIBAQbkTTt1RVVTV27NhFixYlJSUlJCRMnjx506ZNzc3N+JJlZWUIIbXJlcnsAvPmzRvV32d8Pj8rKwtfjMaJjUmG1mpceK02ORqDpd3Tp08DAwOVfdvT0zM5OVn5aVNT05o1a5Tt3NHRcceOHarvFa+srFy+fLnqXcL29vYikQibsQFPz4anZ6tT0Hcs6G11CkoNTw0tsbcaV0NDw6hRo7QUuHjxore3N4/H27BhA8maGxCNaVxhar1JAWlcBTvdRyf79u37+PFjq8VMbvyg/eiQGcK12TROV+AMpXG5XL5kyRLlc7eDBw/Oz88nLLlixYrs7GzCjwz2HtnIyMiIiIgXL17Y2tp6e3uTmRjIz88Pe8uJGoFAIBAIysvLX79+bWVl5ePjo+Vh5LS0NPxCkUgkEonUFmI3a+rEycnp6tWrT548KSwsdHd3j4qKYujSkqur64MHDwoLCyUSSadOnTw8PJieII+10PDYD5Y8Pz+/mzdvVlZWisVie3v7Hj16qP52t7Cw2LRpk0gkys3N5fF4vXv3VrsDj8/n//zzz9u2bSsqKqqqquLz+e7u7hQezDLXhmfAVodHS+y5ubnYJC2ahIaGhoSE2NnZubu761FZltCYxhH0JkjjtNL0bIYaGD+0nTROV+AMpXEulxsXF7d27dqCggInJydvb29NJZubm5X33Ksx2JgeIdShQwe1dyxr5+vru23bNk2furi4EM5ez75+/frpFBdl3t7eWo46E1gLDY/9YMnr2LGjluffra2t+/fvr2V1DodDS3Tm2vAM2Orw9Iz92bNn2hsDQuj06dMKhWL8+PGU98ImetM4gt7EPEjjeDB+YJrxpHH9A2c0jTs4OAwaNIhq1ZCxnO8kA3vjg8I45jmSSCQSiaShoUHXFefNm2dra9utWzeEUOfOnW1tbY8fP07vLpTr1tfX61mGPPJxaaoJtUgR3YEYOWrfFTutDpE4FrQfLH0aHmHdmOtxCKG0tLTAwEBNnyoUimPHjs2dO3f79u3UXttp/CCN61q9tpDG21QORwyncT1zOII0bsppnKOWW0NCQnSaJYBlO3bsCAgI0PIKcXbs2rULe9WcUCgcNmyYEe5COXfb2rVrNZ1+IFOGBfp/mUYSCAuYbngsHAujPVgs9DjUWoKtrKwcNWrUxo0bJ0+erGsFTAikcZLaTho3kijYwWjDo2XjkMaNPI0vW7bs22+/VZ3YV4nimF4qld6/f18mk3Xv3p1wuwzJy8tLSkpidCJqAABgQk5OzokTJ7TfecImSOMAAKATY0jjWsb0Ot97o1AotmzZ4uLiMm7cuClTpvTu3XvkyJEUHgehxsfHh7V9AQAAjc6cOfP1118buhYIQRoHAABKjCeNE9J5TB8fHx8TE7N9+3apVCqTydLS0goKCoRCIROVIxQUFJSens7a7gAAQH8KhaKgoMDf39/QFUEI0jgAAOjOqNI4IZ3H9PPmzXv8+PH333/frl07LpcbEBAgEokyMzNzc3OZqB/etGnTMjMz2dkXAADQIicnRyAQGLoW/4I0DgAAujKqNE5IfS5LbNZ6Le/HsrCw6NWrl+oSLy8vhBBr74SzsbFZsWIFO/sCAABa+Pr6ap/SmE2QxgEAQFdGksYbGxs1vXlD/Ty9u7t7dna2TltPT0+3sbHp06cPxdoBAAAwKEjjAABgEnJyctzc3Ag/Uh/TL1myZNGiRYWFhSQ3LRaL9+3bFx0drXxlNwAAABMCaRwAAIxfc3NzTEzM+PHjra2tCQuoz2WJECouLo6Li2toaJg7d+6AAQO0bF0qlQYEBDQ1Nd2/f1/TDgAAABgtSOMAAGD8Fi5c+P79+6lTp4aHh2sqQzCmJ+njx4/h4eHZ2dl379719PSkWkkAAACGAWkcAADMBvFd9q2SSqUCgSA7O/vWrVvwLwEAAJgcSOMAAGBOqIzpJRJJWFhYeXl5enp6jx49aK8TAAAARkEaBwAAM6PzvTdFRUUhISGlpaW7du1ydHRsamrClrdr127SpEkM1BAAAACdII0DAID50XlMP2fOnMOHD+OXOzs7SyQSmmoFAACAKZDGAQDA/FB/RhYAAAAAAABgDNTnpwcAAAAAAACYlv8DocX2n01CdboAAAAASUVORK5CYII=\"></div><div class=\"grid-item\"><img alt=\"Output\" src=\"data:image/png;base64,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\"></div></div></div>"
      ],
      "text/plain": [
       "                       2\n",
       " l (Sin[θ [t]] (θ )'[t]  - Cos[θ [t]] (θ )''[t])\n",
       "         1       1              1       1\n",
       "{-----------------------------------------------, \n",
       "                        2\n",
       " \n",
       "      1                         2\n",
       ">   -(-) (l (Cos[θ [t]] (θ )'[t]  + Sin[θ [t]] (θ )''[t])), 0}\n",
       "      2           1       1              1       1\n",
       "                      2\n",
       " l Sin[θ [t]] (θ )'[t]\n",
       "        1       1          1                        2\n",
       "{----------------------, -(-) (l Cos[θ [t]] (θ )'[t] ), 0}\n",
       "           2               2          1       1"
      ]
     },
     "execution_count": 76,
     "metadata": {
      "text/html": [],
      "text/plain": []
     },
     "output_type": "execute_result"
    }
   ],
   "source": [
    "(* base pose of link i frame in the snake head frame (all joint angles = 0) *)\n",
    "gsi0[i_] := TwistExp[{0, l(i - 1), 0, 0, 0, 0}, 1];\n",
    "\n",
    "(* twist coordinates for joint i *)\n",
    "ξ[i_] := Piecewise[{{{0, 0, -l(i - 1/2), 1, 0, 0}, EvenQ[i]},\n",
    "              {{l(i - 1/2), 0, 0, 0, 0, 1}, OddQ[i]}}];\n",
    "\n",
    "n = 4; \n",
    "ids = Range[n];\n",
    "gsi0s = Map[gsi0, ids];\n",
    "ξs = Map[ξ, ids];\n",
    "\n",
    "(* create vector of angles which are all functions of t *)\n",
    "θs = Through[Array[Indexed[θ, #] &, n][t]];\n",
    "\n",
    "(* product of exponentials FK for link i *)\n",
    "gs[i_] := Dot @@ Append[MapThread[TwistExp, {ξs[[;; i-1]], θs[[;; i-1]]}], gsi0s[[i]]] // Simplify;\n",
    "\n",
    "(* differentiate position twice wrt time to get acceleration *)\n",
    "p[i_] := gs[i][[;; 3, -1]];\n",
    "v[i_] := D[p[i], t];\n",
    "a[i_] := D[p[i], {t, 2}];\n",
    "\n",
    "(* set all joint accelerations to zero since we are assuming constant joint velocity *)\n",
    "acv[i_] := a[i] /. Thread[D[θs, {t, 2}] -> 0];\n",
    "\n",
    "a[2] // Simplify\n",
    "acv[2] // Simplify"
   ]
  },
  {
   "cell_type": "code",
   "execution_count": null,
   "metadata": {
    "vscode": {
     "languageId": "wolfram"
    }
   },
   "outputs": [],
   "source": [
    "(* Scratch Work *)\n",
    "\n",
    "(* angles = {0, π/2, 0, 0};\n",
    "gs[3] // Simplify // MatrixForm;\n",
    "gs[3] /. Thread[θs -> angles] // Simplify // MatrixForm; *)\n",
    "(* p[3] // Simplify *)\n",
    "(* v[2] // Simplify *)\n",
    "\n",
    "(* gs1 = gsi0s[[1]] // MatrixForm\n",
    "gs2 = TwistExp[ξ[1], θs[[1]]].gsi0s[[2]] // Simplify // MatrixForm\n",
    "gs3 = TwistExp[ξ[1], θs[[1]]].TwistExp[ξ[2], θs[[2]]].gsi0s[[3]] // Simplify // MatrixForm *)"
   ]
  }
 ],
 "metadata": {
  "kernelspec": {
   "display_name": "Wolfram Language 14",
   "language": "Wolfram Language",
   "name": "wolframlanguage14"
  },
  "language_info": {
   "codemirror_mode": "mathematica",
   "file_extension": ".m",
   "mimetype": "application/vnd.wolfram.m",
   "name": "Wolfram Language",
   "pygments_lexer": "mathematica",
   "version": "12.0"
  }
 },
 "nbformat": 4,
 "nbformat_minor": 2
}
